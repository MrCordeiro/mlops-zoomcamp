{
 "cells": [
  {
   "attachments": {},
   "cell_type": "markdown",
   "metadata": {},
   "source": [
    "# Orchestration"
   ]
  },
  {
   "attachments": {},
   "cell_type": "markdown",
   "metadata": {},
   "source": [
    "Setup up Airflow with:"
   ]
  },
  {
   "cell_type": "code",
   "execution_count": null,
   "metadata": {},
   "outputs": [],
   "source": [
    "!export AIRFLOW_HOME=$(pwd) && export DAGS_FOLDER=$(pwd)/dags"
   ]
  },
  {
   "attachments": {},
   "cell_type": "markdown",
   "metadata": {},
   "source": [
    "Run the following commands to start the Airflow web server and the MLflow server:\n",
    "\n",
    "```bash\n",
    "airflow standalone\n",
    "mlflow server \\\n",
    "  --backend-store-uri sqlite:///$(pwd)/mlflow.db \\\n",
    "  --default-artifact-root mlruns\n",
    "```"
   ]
  },
  {
   "attachments": {},
   "cell_type": "markdown",
   "metadata": {},
   "source": [
    "The `mlflow` UI can be found at `http://127.0.0.1:5000`, while the `airflow` UI can be found at `http://127.0.0.1:8080`"
   ]
  },
  {
   "attachments": {},
   "cell_type": "markdown",
   "metadata": {},
   "source": [
    "## Downloading the Data\n",
    "\n",
    "Download the January 2023 Green Taxi data and use it for your training data and the February 2023 Green Taxi data and use it for your validation data."
   ]
  },
  {
   "cell_type": "code",
   "execution_count": 1,
   "metadata": {},
   "outputs": [
    {
     "name": "stdout",
     "output_type": "stream",
     "text": [
      "File already exists.\n",
      "File already exists.\n",
      "File does not exist, downloading from S3 bucket.\n"
     ]
    },
    {
     "name": "stderr",
     "output_type": "stream",
     "text": [
      "--2023-06-24 16:59:32--  https://d37ci6vzurychx.cloudfront.net/trip-data/green_tripdata_2023-03.parquet\n",
      "Resolving d37ci6vzurychx.cloudfront.net (d37ci6vzurychx.cloudfront.net)... 13.225.242.37, 13.225.242.89, 13.225.242.58, ...\n",
      "Connecting to d37ci6vzurychx.cloudfront.net (d37ci6vzurychx.cloudfront.net)|13.225.242.37|:443... connected.\n",
      "HTTP request sent, awaiting response... 200 OK\n",
      "Length: 1730999 (1.7M) [binary/octet-stream]\n",
      "Saving to: ‘/home/fernando/code/mlops-zoomcamp/data/green_tripdata_2023-03.parquet’\n",
      "\n",
      "     0K .......... .......... .......... .......... ..........  2%  588K 3s\n",
      "    50K .......... .......... .......... .......... ..........  5%  590K 3s\n",
      "   100K .......... .......... .......... .......... ..........  8%  675K 3s\n",
      "   150K .......... .......... .......... .......... .......... 11% 15.7M 2s\n",
      "   200K .......... .......... .......... .......... .......... 14% 12.3M 1s\n",
      "   250K .......... .......... .......... .......... .......... 17% 6.23M 1s\n",
      "   300K .......... .......... .......... .......... .......... 20%  724K 1s\n",
      "   350K .......... .......... .......... .......... .......... 23% 30.1M 1s\n",
      "   400K .......... .......... .......... .......... .......... 26% 16.5M 1s\n",
      "   450K .......... .......... .......... .......... .......... 29% 31.7M 1s\n",
      "   500K .......... .......... .......... .......... .......... 32% 33.2M 1s\n",
      "   550K .......... .......... .......... .......... .......... 35% 8.53M 1s\n",
      "   600K .......... .......... .......... .......... .......... 38%  766K 1s\n",
      "   650K .......... .......... .......... .......... .......... 41% 64.0M 1s\n",
      "   700K .......... .......... .......... .......... .......... 44% 28.0M 1s\n",
      "   750K .......... .......... .......... .......... .......... 47% 93.4M 0s\n",
      "   800K .......... .......... .......... .......... .......... 50%  137M 0s\n",
      "   850K .......... .......... .......... .......... .......... 53% 29.2M 0s\n",
      "   900K .......... .......... .......... .......... .......... 56% 39.9M 0s\n",
      "   950K .......... .......... .......... .......... .......... 59% 53.9M 0s\n",
      "  1000K .......... .......... .......... .......... .......... 62% 94.8M 0s\n",
      "  1050K .......... .......... .......... .......... .......... 65% 73.0M 0s\n",
      "  1100K .......... .......... .......... .......... .......... 68% 88.6M 0s\n",
      "  1150K .......... .......... .......... .......... .......... 70% 6.11M 0s\n",
      "  1200K .......... .......... .......... .......... .......... 73%  323M 0s\n",
      "  1250K .......... .......... .......... .......... ."
     ]
    },
    {
     "name": "stdout",
     "output_type": "stream",
     "text": [
      "File downloaded successfully and saved at /home/fernando/code/mlops-zoomcamp/data/green_tripdata_2023-03.parquet\n"
     ]
    },
    {
     "name": "stderr",
     "output_type": "stream",
     "text": [
      "......... 76%  791K 0s\n",
      "  1300K .......... .......... .......... .......... .......... 79% 25.4M 0s\n",
      "  1350K .......... .......... .......... .......... .......... 82% 50.3M 0s\n",
      "  1400K .......... .......... .......... .......... .......... 85%  108M 0s\n",
      "  1450K .......... .......... .......... .......... .......... 88% 43.8M 0s\n",
      "  1500K .......... .......... .......... .......... .......... 91%  125M 0s\n",
      "  1550K .......... .......... .......... .......... .......... 94%  189M 0s\n",
      "  1600K .......... .......... .......... .......... .......... 97%  112M 0s\n",
      "  1650K .......... .......... .......... ..........           100%  145M=0.5s\n",
      "\n",
      "2023-06-24 16:59:33 (3.35 MB/s) - ‘/home/fernando/code/mlops-zoomcamp/data/green_tripdata_2023-03.parquet’ saved [1730999/1730999]\n",
      "\n"
     ]
    }
   ],
   "source": [
    "import subprocess\n",
    "from pathlib import Path\n",
    "\n",
    "\n",
    "PROJECT_DIR = Path().absolute().parent.parent\n",
    "DATA_DIR = PROJECT_DIR / \"data\"\n",
    "S3_URL = \"https://d37ci6vzurychx.cloudfront.net/trip-data/\"\n",
    "FILE_NAMES = [\n",
    "    \"green_tripdata_2023-01.parquet\",\n",
    "    \"green_tripdata_2023-02.parquet\",\n",
    "    \"green_tripdata_2023-03.parquet\",\n",
    "]\n",
    "\n",
    "\n",
    "def download_data(file_name: str) -> None:\n",
    "    file_path = DATA_DIR / file_name\n",
    "    url = S3_URL + file_name\n",
    "\n",
    "    if not file_path.is_file():\n",
    "        print(\"File does not exist, downloading from S3 bucket.\")\n",
    "        if not file_path.parent.exists():\n",
    "            file_path.parent.mkdir(parents=True)\n",
    "        subprocess.run([\"wget\", \"-O\", file_path, url])\n",
    "        print(f\"File downloaded successfully and saved at {file_path}\")\n",
    "    else:\n",
    "        print(\"File already exists.\")\n",
    "\n",
    "\n",
    "for file_name in FILE_NAMES:\n",
    "    download_data(file_name)"
   ]
  },
  {
   "cell_type": "markdown",
   "metadata": {},
   "source": []
  },
  {
   "attachments": {},
   "cell_type": "markdown",
   "metadata": {},
   "source": []
  }
 ],
 "metadata": {
  "kernelspec": {
   "display_name": ".venv",
   "language": "python",
   "name": "python3"
  },
  "language_info": {
   "codemirror_mode": {
    "name": "ipython",
    "version": 3
   },
   "file_extension": ".py",
   "mimetype": "text/x-python",
   "name": "python",
   "nbconvert_exporter": "python",
   "pygments_lexer": "ipython3",
   "version": "3.10.9"
  },
  "orig_nbformat": 4
 },
 "nbformat": 4,
 "nbformat_minor": 2
}
