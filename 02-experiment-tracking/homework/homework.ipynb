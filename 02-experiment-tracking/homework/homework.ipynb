{
 "cells": [
  {
   "attachments": {},
   "cell_type": "markdown",
   "id": "740766fb",
   "metadata": {},
   "source": [
    "# Experiment Tracking"
   ]
  },
  {
   "cell_type": "code",
   "execution_count": 5,
   "id": "41062d8a",
   "metadata": {},
   "outputs": [],
   "source": [
    "import subprocess\n",
    "from pathlib import Path\n",
    "\n",
    "\n",
    "PROJECT_DIR = Path().absolute().parent.parent"
   ]
  },
  {
   "attachments": {},
   "cell_type": "markdown",
   "id": "a50a44c6",
   "metadata": {},
   "source": [
    "## Download dataset\n",
    "\n",
    "We'll use [the same NYC taxi dataset](https://www1.nyc.gov/site/tlc/about/tlc-trip-record-data.page). We'll use \"**Green** Taxi Trip Records\".\n",
    "\n",
    "Download the data for January, February and March 2022."
   ]
  },
  {
   "cell_type": "code",
   "execution_count": 6,
   "id": "328fc195",
   "metadata": {},
   "outputs": [
    {
     "name": "stdout",
     "output_type": "stream",
     "text": [
      "File does not exist, downloading from S3 bucket.\n"
     ]
    },
    {
     "name": "stderr",
     "output_type": "stream",
     "text": [
      "--2023-06-06 15:59:06--  https://d37ci6vzurychx.cloudfront.net/trip-data/green_tripdata_2022-01.parquet\n",
      "Resolving d37ci6vzurychx.cloudfront.net (d37ci6vzurychx.cloudfront.net)... 54.192.107.156, 54.192.107.18, 54.192.107.207, ...\n",
      "Connecting to d37ci6vzurychx.cloudfront.net (d37ci6vzurychx.cloudfront.net)|54.192.107.156|:443... connected.\n",
      "HTTP request sent, awaiting response... 200 OK\n",
      "Length: 1254291 (1.2M) [binary/octet-stream]\n",
      "Saving to: ‘/home/fernando/code/mlops-zoomcamp/data/green_tripdata_2022-01.parquet’\n",
      "\n",
      "     0K .......... .......... .......... .......... ..........  4%  227K 5s\n",
      "    50K .......... .......... .......... .......... ..........  8%  280K 4s\n",
      "   100K .......... .......... .......... .......... .......... 12% 7.66M 3s\n",
      "   150K .......... .......... .......... .......... .......... 16%  359K 3s\n",
      "   200K .......... .......... .......... .......... .......... 20%  185M 2s\n",
      "   250K .......... .......... .......... .......... .......... 24%  696K 2s\n",
      "   300K .......... .......... .......... .......... .......... 28% 1.63M 2s\n",
      "   350K .......... .......... .......... .......... .......... 32%  237M 1s\n",
      "   400K .......... .......... .......... .......... .......... 36%  237M 1s\n",
      "   450K .......... .......... .......... .......... .......... 40%  272M 1s\n",
      "   500K .......... .......... .......... .......... .......... 44%  608K 1s\n",
      "   550K .......... .......... .......... .......... .......... 48%  422M 1s\n",
      "   600K .......... .......... .......... .......... .......... 53%  306M 1s\n",
      "   650K .......... .......... .......... .......... .......... 57%  968K 1s\n",
      "   700K .......... .......... .......... .......... .......... 61%  311M 0s\n",
      "   750K .......... .......... .......... .......... .......... 65% 2.64M 0s\n",
      "   800K .......... .......... .......... .......... .......... 69%  264M 0s\n",
      "   850K .......... .......... .......... .......... .......... 73% 43.5K 1s\n",
      "   900K .......... .......... .......... .......... .......... 77%  357M 1s\n",
      "   950K .......... .......... .......... .......... .......... 81%  437M 0s\n",
      "  1000K .......... .......... .......... .......... .......... 85%  246M 0s\n",
      "  1050K .......... .......... .......... .......... .......... 89%  217M 0s\n",
      "  1100K .......... .......... .......... .......... .......... 93%  157M 0s\n",
      "  1150K .......... .......... .......... .......... .......... 97% 86.3K 0s\n",
      "  1200K .......... .......... ....                            100%  430M=2.5s\n",
      "\n",
      "2023-06-06 15:59:09 (484 KB/s) - ‘/home/fernando/code/mlops-zoomcamp/data/green_tripdata_2022-01.parquet’ saved [1254291/1254291]\n",
      "\n",
      "--2023-06-06 15:59:09--  https://d37ci6vzurychx.cloudfront.net/trip-data/green_tripdata_2022-02.parquet\n",
      "Resolving d37ci6vzurychx.cloudfront.net (d37ci6vzurychx.cloudfront.net)... 54.192.107.33, 54.192.107.207, 54.192.107.18, ...\n",
      "Connecting to d37ci6vzurychx.cloudfront.net (d37ci6vzurychx.cloudfront.net)|54.192.107.33|:443... connected.\n",
      "HTTP request sent, awaiting response... "
     ]
    },
    {
     "name": "stdout",
     "output_type": "stream",
     "text": [
      "File downloaded successfully and saved at /home/fernando/code/mlops-zoomcamp/data/green_tripdata_2022-01.parquet\n",
      "File does not exist, downloading from S3 bucket.\n"
     ]
    },
    {
     "name": "stderr",
     "output_type": "stream",
     "text": [
      "200 OK\n",
      "Length: 1428262 (1.4M) [binary/octet-stream]\n",
      "Saving to: ‘/home/fernando/code/mlops-zoomcamp/data/green_tripdata_2022-02.parquet’\n",
      "\n",
      "     0K .......... .......... .......... .......... ..........  3%  521K 3s\n",
      "    50K .......... .......... .......... .......... ..........  7%  608K 2s\n",
      "   100K .......... .......... .......... .......... .......... 10%  393K 3s\n",
      "   150K .......... .......... .......... .......... .......... 14% 1.45M 2s\n",
      "   200K .......... .......... .......... .......... .......... 17% 2.01M 2s\n",
      "   250K .......... .......... .......... .......... .......... 21%  238M 1s\n",
      "   300K .......... .......... .......... .......... .......... 25% 2.92M 1s\n",
      "   350K .......... .......... .......... .......... .......... 28% 2.75M 1s\n",
      "   400K .......... .......... .......... .......... .......... 32% 1.76M 1s\n",
      "   450K .......... .......... .......... .......... .......... 35% 2.73M 1s\n",
      "   500K .......... .......... .......... .......... .......... 39%  311K 1s\n",
      "   550K .......... .......... .......... .......... .......... 43%  515M 1s\n",
      "   600K .......... .......... .......... .......... .......... 46%  567M 1s\n",
      "   650K .......... .......... .......... .......... .......... 50%  665M 1s\n",
      "   700K .......... .......... .......... .......... .......... 53%  520M 1s\n",
      "   750K .......... .......... .......... .......... .......... 57%  479M 0s\n",
      "   800K .......... .......... .......... .......... .......... 60%  284M 0s\n",
      "   850K .......... .......... .......... .......... .......... 64%  408M 0s\n",
      "   900K .......... .......... .......... .......... .......... 68%  580M 0s\n",
      "   950K .......... .......... .......... .......... .......... 71% 3.89M 0s\n",
      "  1000K .......... .......... .......... .......... .......... 75%  178M 0s\n",
      "  1050K .......... .......... .......... .......... .......... 78%  268M 0s\n",
      "  1100K .......... .......... .......... .......... .......... 82%  224M 0s\n",
      "  1150K .......... .......... .......... .......... .......... 86%  227M 0s\n",
      "  1200K .......... .......... .......... .......... .......... 89%  845K 0s\n",
      "  1250K .......... .......... .......... .......... .......... 93%  242M 0s\n",
      "  1300K .......... .......... .......... .......... .......... 96% 2.77M 0s\n",
      "  1350K .......... .......... .......... .......... ....      100%  876K=0.7s\n",
      "\n",
      "2023-06-06 15:59:10 (1.82 MB/s) - ‘/home/fernando/code/mlops-zoomcamp/data/green_tripdata_2022-02.parquet’ saved [1428262/1428262]\n",
      "\n",
      "--2023-06-06 15:59:10--  https://d37ci6vzurychx.cloudfront.net/trip-data/green_tripdata_2022-03.parquet\n",
      "Resolving d37ci6vzurychx.cloudfront.net (d37ci6vzurychx.cloudfront.net)... 54.192.107.156, 54.192.107.33, 54.192.107.207, ...\n",
      "Connecting to d37ci6vzurychx.cloudfront.net (d37ci6vzurychx.cloudfront.net)|54.192.107.156|:443... "
     ]
    },
    {
     "name": "stdout",
     "output_type": "stream",
     "text": [
      "File downloaded successfully and saved at /home/fernando/code/mlops-zoomcamp/data/green_tripdata_2022-02.parquet\n",
      "File does not exist, downloading from S3 bucket.\n"
     ]
    },
    {
     "name": "stderr",
     "output_type": "stream",
     "text": [
      "connected.\n",
      "HTTP request sent, awaiting response... 200 OK\n",
      "Length: 1615562 (1.5M) [binary/octet-stream]\n",
      "Saving to: ‘/home/fernando/code/mlops-zoomcamp/data/green_tripdata_2022-03.parquet’\n",
      "\n",
      "     0K .......... .......... .......... .......... ..........  3%  316K 5s\n",
      "    50K .......... .......... .......... .......... ..........  6%  786K 3s\n",
      "   100K .......... .......... .......... .......... ..........  9% 2.85M 2s\n",
      "   150K .......... .......... .......... .......... .......... 12%  676K 2s\n",
      "   200K .......... .......... .......... .......... .......... 15% 2.39M 2s\n",
      "   250K .......... .......... .......... .......... .......... 19%  315M 1s\n",
      "   300K .......... .......... .......... .......... .......... 22%  970K 1s\n",
      "   350K .......... .......... .......... .......... .......... 25%  321M 1s\n",
      "   400K .......... .......... .......... .......... .......... 28%  418M 1s\n",
      "   450K .......... .......... .......... .......... .......... 31%  275M 1s\n",
      "   500K .......... .......... .......... .......... .......... 34% 58.1M 1s\n",
      "   550K .......... .......... .......... .......... .......... 38% 5.08M 1s\n",
      "   600K .......... .......... .......... .......... .......... 41% 4.66M 1s\n",
      "   650K .......... .......... .......... .......... .......... 44% 5.58M 1s\n",
      "   700K .......... .......... .......... .......... .......... 47% 6.80M 0s\n",
      "   750K .......... .......... .......... .......... .......... 50%  279K 1s\n",
      "   800K .......... .......... .......... .......... .......... 53%  204M 1s\n",
      "   850K .......... .......... .......... .......... .......... 57%  272M 0s\n",
      "   900K .......... .......... .......... .......... .......... 60%  180M 0s\n",
      "   950K .......... .......... .......... .......... .......... 63%  180M 0s\n",
      "  1000K .......... .......... .......... .......... .......... 66%  271M 0s\n",
      "  1050K .......... .......... .......... .......... .......... 69%  405M 0s\n",
      "  1100K .......... .......... .......... .......... .......... 72%  489M 0s\n",
      "  1150K .......... .......... .......... .......... .......... 76%  472M 0s\n",
      "  1200K .......... .......... .......... .......... .......... 79%  413M 0s\n",
      "  1250K .......... .......... .......... .......... .......... 82%  596M 0s\n",
      "  1300K .......... .......... .......... .......... .......... 85%  364M 0s\n",
      "  1350K .......... .......... .......... .......... .......... 88%  401M 0s\n",
      "  1400K .......... .......... .......... .......... .......... 91%  477M 0s\n",
      "  1450K ......."
     ]
    },
    {
     "name": "stdout",
     "output_type": "stream",
     "text": [
      "File downloaded successfully and saved at /home/fernando/code/mlops-zoomcamp/data/green_tripdata_2022-03.parquet\n"
     ]
    },
    {
     "name": "stderr",
     "output_type": "stream",
     "text": [
      "... .......... .......... .......... .......... 95%  666K 0s\n",
      "  1500K .......... .......... .......... .......... .......... 98%  278M 0s\n",
      "  1550K .......... .......... .......                         100%  399M=0.7s\n",
      "\n",
      "2023-06-06 15:59:11 (2.27 MB/s) - ‘/home/fernando/code/mlops-zoomcamp/data/green_tripdata_2022-03.parquet’ saved [1615562/1615562]\n",
      "\n"
     ]
    }
   ],
   "source": [
    "DATA_DIR = PROJECT_DIR / \"data\"\n",
    "S3_URL = \"https://d37ci6vzurychx.cloudfront.net/trip-data/\"\n",
    "FILE_NAMES = [\n",
    "    \"green_tripdata_2022-01.parquet\",\n",
    "    \"green_tripdata_2022-02.parquet\",\n",
    "    \"green_tripdata_2022-03.parquet\",\n",
    "]\n",
    "\n",
    "\n",
    "def download_data(file_name: str) -> None:\n",
    "    file_path = DATA_DIR / file_name\n",
    "    url = S3_URL + file_name\n",
    "\n",
    "    if not file_path.is_file():\n",
    "        print(\"File does not exist, downloading from S3 bucket.\")\n",
    "        if not file_path.parent.exists():\n",
    "            file_path.parent.mkdir(parents=True)\n",
    "        subprocess.run([\"wget\", \"-O\", file_path, url])\n",
    "        print(f\"File downloaded successfully and saved at {file_path}\")\n",
    "    else:\n",
    "        print(\"File already exists.\")\n",
    "\n",
    "\n",
    "for file_name in FILE_NAMES:\n",
    "    download_data(file_name)"
   ]
  },
  {
   "attachments": {},
   "cell_type": "markdown",
   "id": "81f3e821",
   "metadata": {},
   "source": [
    "## Q2. Preprocess the data"
   ]
  },
  {
   "cell_type": "markdown",
   "id": "3f83087c",
   "metadata": {},
   "source": [
    "Run the script `preprocess_data.py` to preprocess the data and save the resulting files in the `data/processed` folder."
   ]
  },
  {
   "cell_type": "code",
   "execution_count": 9,
   "id": "d6d4991e",
   "metadata": {},
   "outputs": [],
   "source": [
    "import click\n",
    "from preprocess_data import run_data_prep\n",
    "\n",
    "\n",
    "ctx = click.Context(run_data_prep)\n",
    "ctx.invoke( \n",
    "    run_data_prep,\n",
    "    raw_data_path=str(DATA_DIR),\n",
    "    dest_path=str(DATA_DIR / \"preprocessed\")\n",
    ")"
   ]
  },
  {
   "attachments": {},
   "cell_type": "markdown",
   "id": "f58223b4",
   "metadata": {},
   "source": [
    "So what's the size of the saved DictVectorizer file?"
   ]
  },
  {
   "cell_type": "code",
   "execution_count": 10,
   "id": "b6309a37",
   "metadata": {},
   "outputs": [
    {
     "name": "stdout",
     "output_type": "stream",
     "text": [
      "Size of DictVectorizer: 150.05859375 KB\n"
     ]
    }
   ],
   "source": [
    "import os\n",
    "\n",
    "BYTES_IN_KILOBYTES = 1024\n",
    "\n",
    "def get_file_size(file_path):\n",
    "    size_in_bytes = os.path.getsize(file_path)\n",
    "    size_in_kilobytes = size_in_bytes / BYTES_IN_KILOBYTES\n",
    "    return size_in_kilobytes\n",
    "\n",
    "\n",
    "print(\n",
    "    \"Size of DictVectorizer:\",\n",
    "    get_file_size(DATA_DIR / \"preprocessed\" / \"dv.pkl\"),\n",
    "    \"KB\"\n",
    ")"
   ]
  },
  {
   "attachments": {},
   "cell_type": "markdown",
   "id": "5a45e240",
   "metadata": {},
   "source": [
    "## Q3. Train a model with autolog\n",
    "\n",
    "Modify the  `train.py` script to enable **autologging** with MLflow, execute the script and then launch the MLflow UI to check that the experiment run was properly tracked."
   ]
  },
  {
   "cell_type": "code",
   "execution_count": 31,
   "id": "c010ba60",
   "metadata": {},
   "outputs": [
    {
     "name": "stderr",
     "output_type": "stream",
     "text": [
      "2023/06/06 16:53:19 INFO mlflow.tracking.fluent: Experiment with name 'hw2_local_experiment' does not exist. Creating a new experiment.\n"
     ]
    },
    {
     "ename": "PermissionError",
     "evalue": "[Errno 13] Permission denied: '/home/fernando/code/mlops-zoomcamp/mlruns/938681304766333036'",
     "output_type": "error",
     "traceback": [
      "\u001b[0;31m---------------------------------------------------------------------------\u001b[0m",
      "\u001b[0;31mPermissionError\u001b[0m                           Traceback (most recent call last)",
      "Cell \u001b[0;32mIn[31], line 16\u001b[0m\n\u001b[1;32m     14\u001b[0m \u001b[39m# Mlflow setup\u001b[39;00m\n\u001b[1;32m     15\u001b[0m mlflow\u001b[39m.\u001b[39mset_tracking_uri(\u001b[39mstr\u001b[39m(PROJECT_DIR \u001b[39m/\u001b[39m \u001b[39m\"\u001b[39m\u001b[39mmlruns\u001b[39m\u001b[39m\"\u001b[39m))\n\u001b[0;32m---> 16\u001b[0m mlflow\u001b[39m.\u001b[39;49mset_experiment(\u001b[39m\"\u001b[39;49m\u001b[39mhw2_local_experiment\u001b[39;49m\u001b[39m\"\u001b[39;49m)\n\u001b[1;32m     17\u001b[0m mlflow\u001b[39m.\u001b[39msklearn\u001b[39m.\u001b[39mautolog()\n\u001b[1;32m     19\u001b[0m data_path \u001b[39m=\u001b[39m DATA_DIR \u001b[39m/\u001b[39m \u001b[39m\"\u001b[39m\u001b[39mpreprocessed\u001b[39m\u001b[39m\"\u001b[39m\n",
      "File \u001b[0;32m~/code/mlops-zoomcamp/.venv/lib/python3.10/site-packages/mlflow/tracking/fluent.py:123\u001b[0m, in \u001b[0;36mset_experiment\u001b[0;34m(experiment_name, experiment_id)\u001b[0m\n\u001b[1;32m    116\u001b[0m         _logger\u001b[39m.\u001b[39minfo(\n\u001b[1;32m    117\u001b[0m             \u001b[39m\"\u001b[39m\u001b[39mExperiment with name \u001b[39m\u001b[39m'\u001b[39m\u001b[39m%s\u001b[39;00m\u001b[39m'\u001b[39m\u001b[39m does not exist. Creating a new experiment.\u001b[39m\u001b[39m\"\u001b[39m,\n\u001b[1;32m    118\u001b[0m             experiment_name,\n\u001b[1;32m    119\u001b[0m         )\n\u001b[1;32m    120\u001b[0m         \u001b[39m# NB: If two simultaneous threads or processes attempt to set the same experiment\u001b[39;00m\n\u001b[1;32m    121\u001b[0m         \u001b[39m# simultaneously, a race condition may be encountered here wherein experiment creation\u001b[39;00m\n\u001b[1;32m    122\u001b[0m         \u001b[39m# fails\u001b[39;00m\n\u001b[0;32m--> 123\u001b[0m         experiment_id \u001b[39m=\u001b[39m client\u001b[39m.\u001b[39;49mcreate_experiment(experiment_name)\n\u001b[1;32m    124\u001b[0m         experiment \u001b[39m=\u001b[39m client\u001b[39m.\u001b[39mget_experiment(experiment_id)\n\u001b[1;32m    125\u001b[0m \u001b[39melse\u001b[39;00m:\n",
      "File \u001b[0;32m~/code/mlops-zoomcamp/.venv/lib/python3.10/site-packages/mlflow/tracking/client.py:511\u001b[0m, in \u001b[0;36mMlflowClient.create_experiment\u001b[0;34m(self, name, artifact_location, tags)\u001b[0m\n\u001b[1;32m    463\u001b[0m \u001b[39mdef\u001b[39;00m \u001b[39mcreate_experiment\u001b[39m(\n\u001b[1;32m    464\u001b[0m     \u001b[39mself\u001b[39m,\n\u001b[1;32m    465\u001b[0m     name: \u001b[39mstr\u001b[39m,\n\u001b[1;32m    466\u001b[0m     artifact_location: Optional[\u001b[39mstr\u001b[39m] \u001b[39m=\u001b[39m \u001b[39mNone\u001b[39;00m,\n\u001b[1;32m    467\u001b[0m     tags: Optional[Dict[\u001b[39mstr\u001b[39m, Any]] \u001b[39m=\u001b[39m \u001b[39mNone\u001b[39;00m,\n\u001b[1;32m    468\u001b[0m ) \u001b[39m-\u001b[39m\u001b[39m>\u001b[39m \u001b[39mstr\u001b[39m:\n\u001b[1;32m    469\u001b[0m \u001b[39m    \u001b[39m\u001b[39m\"\"\"Create an experiment.\u001b[39;00m\n\u001b[1;32m    470\u001b[0m \n\u001b[1;32m    471\u001b[0m \u001b[39m    :param name: The experiment name. Must be unique.\u001b[39;00m\n\u001b[0;32m   (...)\u001b[0m\n\u001b[1;32m    509\u001b[0m \u001b[39m        Lifecycle_stage: active\u001b[39;00m\n\u001b[1;32m    510\u001b[0m \u001b[39m    \"\"\"\u001b[39;00m\n\u001b[0;32m--> 511\u001b[0m     \u001b[39mreturn\u001b[39;00m \u001b[39mself\u001b[39;49m\u001b[39m.\u001b[39;49m_tracking_client\u001b[39m.\u001b[39;49mcreate_experiment(name, artifact_location, tags)\n",
      "File \u001b[0;32m~/code/mlops-zoomcamp/.venv/lib/python3.10/site-packages/mlflow/tracking/_tracking_service/client.py:234\u001b[0m, in \u001b[0;36mTrackingServiceClient.create_experiment\u001b[0;34m(self, name, artifact_location, tags)\u001b[0m\n\u001b[1;32m    223\u001b[0m \u001b[39m\u001b[39m\u001b[39m\"\"\"Create an experiment.\u001b[39;00m\n\u001b[1;32m    224\u001b[0m \n\u001b[1;32m    225\u001b[0m \u001b[39m:param name: The experiment name. Must be unique.\u001b[39;00m\n\u001b[0;32m   (...)\u001b[0m\n\u001b[1;32m    230\u001b[0m \u001b[39m:return: Integer ID of the created experiment.\u001b[39;00m\n\u001b[1;32m    231\u001b[0m \u001b[39m\"\"\"\u001b[39;00m\n\u001b[1;32m    232\u001b[0m _validate_experiment_artifact_location(artifact_location)\n\u001b[0;32m--> 234\u001b[0m \u001b[39mreturn\u001b[39;00m \u001b[39mself\u001b[39;49m\u001b[39m.\u001b[39;49mstore\u001b[39m.\u001b[39;49mcreate_experiment(\n\u001b[1;32m    235\u001b[0m     name\u001b[39m=\u001b[39;49mname,\n\u001b[1;32m    236\u001b[0m     artifact_location\u001b[39m=\u001b[39;49martifact_location,\n\u001b[1;32m    237\u001b[0m     tags\u001b[39m=\u001b[39;49m[ExperimentTag(key, value) \u001b[39mfor\u001b[39;49;00m (key, value) \u001b[39min\u001b[39;49;00m tags\u001b[39m.\u001b[39;49mitems()] \u001b[39mif\u001b[39;49;00m tags \u001b[39melse\u001b[39;49;00m [],\n\u001b[1;32m    238\u001b[0m )\n",
      "File \u001b[0;32m~/code/mlops-zoomcamp/.venv/lib/python3.10/site-packages/mlflow/store/tracking/file_store.py:369\u001b[0m, in \u001b[0;36mFileStore.create_experiment\u001b[0;34m(self, name, artifact_location, tags)\u001b[0m\n\u001b[1;32m    367\u001b[0m \u001b[39mself\u001b[39m\u001b[39m.\u001b[39m_validate_experiment_does_not_exist(name)\n\u001b[1;32m    368\u001b[0m experiment_id \u001b[39m=\u001b[39m _generate_unique_integer_id()\n\u001b[0;32m--> 369\u001b[0m \u001b[39mreturn\u001b[39;00m \u001b[39mself\u001b[39;49m\u001b[39m.\u001b[39;49m_create_experiment_with_id(name, \u001b[39mstr\u001b[39;49m(experiment_id), artifact_location, tags)\n",
      "File \u001b[0;32m~/code/mlops-zoomcamp/.venv/lib/python3.10/site-packages/mlflow/store/tracking/file_store.py:327\u001b[0m, in \u001b[0;36mFileStore._create_experiment_with_id\u001b[0;34m(self, name, experiment_id, artifact_uri, tags)\u001b[0m\n\u001b[1;32m    325\u001b[0m \u001b[39melse\u001b[39;00m:\n\u001b[1;32m    326\u001b[0m     resolved_artifact_uri \u001b[39m=\u001b[39m resolve_uri_if_local(artifact_uri)\n\u001b[0;32m--> 327\u001b[0m meta_dir \u001b[39m=\u001b[39m mkdir(\u001b[39mself\u001b[39;49m\u001b[39m.\u001b[39;49mroot_directory, \u001b[39mstr\u001b[39;49m(experiment_id))\n\u001b[1;32m    328\u001b[0m creation_time \u001b[39m=\u001b[39m get_current_time_millis()\n\u001b[1;32m    329\u001b[0m experiment \u001b[39m=\u001b[39m Experiment(\n\u001b[1;32m    330\u001b[0m     experiment_id,\n\u001b[1;32m    331\u001b[0m     name,\n\u001b[0;32m   (...)\u001b[0m\n\u001b[1;32m    335\u001b[0m     last_update_time\u001b[39m=\u001b[39mcreation_time,\n\u001b[1;32m    336\u001b[0m )\n",
      "File \u001b[0;32m~/code/mlops-zoomcamp/.venv/lib/python3.10/site-packages/mlflow/utils/file_utils.py:122\u001b[0m, in \u001b[0;36mmkdir\u001b[0;34m(root, name)\u001b[0m\n\u001b[1;32m    120\u001b[0m \u001b[39mexcept\u001b[39;00m \u001b[39mOSError\u001b[39;00m \u001b[39mas\u001b[39;00m e:\n\u001b[1;32m    121\u001b[0m     \u001b[39mif\u001b[39;00m e\u001b[39m.\u001b[39merrno \u001b[39m!=\u001b[39m errno\u001b[39m.\u001b[39mEEXIST \u001b[39mor\u001b[39;00m \u001b[39mnot\u001b[39;00m os\u001b[39m.\u001b[39mpath\u001b[39m.\u001b[39misdir(target):\n\u001b[0;32m--> 122\u001b[0m         \u001b[39mraise\u001b[39;00m e\n\u001b[1;32m    123\u001b[0m \u001b[39mreturn\u001b[39;00m target\n",
      "File \u001b[0;32m~/code/mlops-zoomcamp/.venv/lib/python3.10/site-packages/mlflow/utils/file_utils.py:119\u001b[0m, in \u001b[0;36mmkdir\u001b[0;34m(root, name)\u001b[0m\n\u001b[1;32m    117\u001b[0m target \u001b[39m=\u001b[39m os\u001b[39m.\u001b[39mpath\u001b[39m.\u001b[39mjoin(root, name) \u001b[39mif\u001b[39;00m name \u001b[39mis\u001b[39;00m \u001b[39mnot\u001b[39;00m \u001b[39mNone\u001b[39;00m \u001b[39melse\u001b[39;00m root\n\u001b[1;32m    118\u001b[0m \u001b[39mtry\u001b[39;00m:\n\u001b[0;32m--> 119\u001b[0m     os\u001b[39m.\u001b[39;49mmakedirs(target)\n\u001b[1;32m    120\u001b[0m \u001b[39mexcept\u001b[39;00m \u001b[39mOSError\u001b[39;00m \u001b[39mas\u001b[39;00m e:\n\u001b[1;32m    121\u001b[0m     \u001b[39mif\u001b[39;00m e\u001b[39m.\u001b[39merrno \u001b[39m!=\u001b[39m errno\u001b[39m.\u001b[39mEEXIST \u001b[39mor\u001b[39;00m \u001b[39mnot\u001b[39;00m os\u001b[39m.\u001b[39mpath\u001b[39m.\u001b[39misdir(target):\n",
      "File \u001b[0;32m~/.pyenv/versions/3.10.9/lib/python3.10/os.py:225\u001b[0m, in \u001b[0;36mmakedirs\u001b[0;34m(name, mode, exist_ok)\u001b[0m\n\u001b[1;32m    223\u001b[0m         \u001b[39mreturn\u001b[39;00m\n\u001b[1;32m    224\u001b[0m \u001b[39mtry\u001b[39;00m:\n\u001b[0;32m--> 225\u001b[0m     mkdir(name, mode)\n\u001b[1;32m    226\u001b[0m \u001b[39mexcept\u001b[39;00m \u001b[39mOSError\u001b[39;00m:\n\u001b[1;32m    227\u001b[0m     \u001b[39m# Cannot rely on checking for EEXIST, since the operating system\u001b[39;00m\n\u001b[1;32m    228\u001b[0m     \u001b[39m# could give priority to other errors like EACCES or EROFS\u001b[39;00m\n\u001b[1;32m    229\u001b[0m     \u001b[39mif\u001b[39;00m \u001b[39mnot\u001b[39;00m exist_ok \u001b[39mor\u001b[39;00m \u001b[39mnot\u001b[39;00m path\u001b[39m.\u001b[39misdir(name):\n",
      "\u001b[0;31mPermissionError\u001b[0m: [Errno 13] Permission denied: '/home/fernando/code/mlops-zoomcamp/mlruns/938681304766333036'"
     ]
    }
   ],
   "source": [
    "import os\n",
    "import pickle\n",
    "\n",
    "import mlflow\n",
    "from sklearn.ensemble import RandomForestRegressor\n",
    "from sklearn.metrics import mean_squared_error\n",
    "\n",
    "\n",
    "def load_pickle(filename: str | Path):\n",
    "    with open(filename, \"rb\") as f_in:\n",
    "        return pickle.load(f_in)\n",
    "\n",
    "\n",
    "# Mlflow setup\n",
    "mlflow.set_tracking_uri(str(PROJECT_DIR / \"mlruns\"))\n",
    "mlflow.set_experiment(\"hw2_local_experiment\")\n",
    "mlflow.sklearn.autolog()\n",
    "\n",
    "data_path = DATA_DIR / \"preprocessed\"\n",
    "X_train, y_train = load_pickle(os.path.join(data_path, \"train.pkl\"))\n",
    "X_val, y_val = load_pickle(os.path.join(data_path, \"val.pkl\"))\n",
    "\n",
    "\n",
    "with mlflow.start_run():\n",
    "\n",
    "    rf = RandomForestRegressor(max_depth=10, random_state=0)\n",
    "    rf.fit(X_train, y_train)\n",
    "    y_pred = rf.predict(X_val)\n",
    "\n",
    "    rmse = mean_squared_error(y_val, y_pred, squared=False)\n",
    "\n",
    "    print(f\"Training complete. RMSE: {rmse:.2f}\")\n",
    "    \n",
    "    run_id = mlflow.active_run().info.run_id\n",
    "    print(f\"Run ID: {run_id}\")"
   ]
  },
  {
   "cell_type": "code",
   "execution_count": 18,
   "id": "67dc9306",
   "metadata": {},
   "outputs": [
    {
     "name": "stdout",
     "output_type": "stream",
     "text": [
      "Parameters:\n",
      "\tmin_weight_fraction_leaf: 0.0\n",
      "\tmax_depth: 10\n",
      "\tbootstrap: True\n",
      "\tmin_samples_leaf: 1\n",
      "\tn_jobs: None\n",
      "\tmin_samples_split: 2\n",
      "\tverbose: 0\n",
      "\twarm_start: False\n",
      "\trandom_state: 0\n",
      "\tn_estimators: 100\n",
      "\tmax_samples: None\n",
      "\tmax_leaf_nodes: None\n",
      "\tccp_alpha: 0.0\n",
      "\toob_score: False\n",
      "\tmax_features: 1.0\n",
      "\tmin_impurity_decrease: 0.0\n",
      "\tcriterion: squared_error\n",
      "Metrics:\n",
      "\ttraining_root_mean_squared_error: 1.9456616836464489\n",
      "\ttraining_score: 0.2905920668431764\n",
      "\ttraining_r2_score: 0.2905920668431764\n",
      "\ttraining_mean_absolute_error: 1.4846553814437824\n",
      "\tmean_squared_error_X_val: 2.453983836538874\n",
      "\ttraining_mean_squared_error: 3.785599387209934\n"
     ]
    },
    {
     "data": {
      "text/plain": [
       "[None, None, None, None, None, None]"
      ]
     },
     "execution_count": 18,
     "metadata": {},
     "output_type": "execute_result"
    }
   ],
   "source": [
    "# Print the logged parameters and metrics\n",
    "run = mlflow.get_run(run_id)\n",
    "\n",
    "print(\"Parameters:\")\n",
    "[print(f\"\\t{key}: {value}\") for key, value in run.data.params.items()]\n",
    "\n",
    "print(\"Metrics:\")\n",
    "[print(f\"\\t{key}: {value}\") for key, value in run.data.metrics.items()]\n"
   ]
  },
  {
   "attachments": {},
   "cell_type": "markdown",
   "id": "eec36e61",
   "metadata": {},
   "source": [
    "## Q4. Tune model hyperparameters\n",
    "\n",
    "Now let's try to reduce the validation error by tuning the hyperparameters of the `RandomForestRegressor` using `optuna`.\n",
    "\n",
    "We have prepared the script `hpo.py` for this exercise.\n",
    "\n",
    "Make sure that the validation RMSE is logged to the tracking server for each run of the hyperparameter optimization (you will need to add a few lines of code to the `objective` function) and run the script without passing any parameters.\n",
    "\n",
    "Start the MLflow Server with:\n",
    "\n",
    "```bash\n",
    "mlflow server --backend-store-uri sqlite:///mlruns.db --default-artifact-root ./mlruns\n",
    "```"
   ]
  },
  {
   "cell_type": "code",
   "execution_count": 60,
   "id": "781f2723",
   "metadata": {},
   "outputs": [
    {
     "name": "stderr",
     "output_type": "stream",
     "text": [
      "[I 2023-06-06 17:22:47,036] A new study created in memory with name: no-name-a9d4066b-6a4c-4107-b37e-f01352fea9e5\n",
      "[I 2023-06-06 17:22:47,639] Trial 0 finished with value: 2.451379690825458 and parameters: {'n_estimators': 25, 'max_depth': 20, 'min_samples_split': 8, 'min_samples_leaf': 3}. Best is trial 0 with value: 2.451379690825458.\n",
      "[I 2023-06-06 17:22:47,766] Trial 1 finished with value: 2.4667366020368333 and parameters: {'n_estimators': 16, 'max_depth': 4, 'min_samples_split': 2, 'min_samples_leaf': 4}. Best is trial 0 with value: 2.451379690825458.\n",
      "[I 2023-06-06 17:22:48,420] Trial 2 finished with value: 2.449827329704216 and parameters: {'n_estimators': 34, 'max_depth': 15, 'min_samples_split': 2, 'min_samples_leaf': 4}. Best is trial 2 with value: 2.449827329704216.\n",
      "[I 2023-06-06 17:22:48,712] Trial 3 finished with value: 2.460983516558473 and parameters: {'n_estimators': 44, 'max_depth': 5, 'min_samples_split': 3, 'min_samples_leaf': 1}. Best is trial 2 with value: 2.449827329704216.\n",
      "[I 2023-06-06 17:22:49,016] Trial 4 finished with value: 2.453877262701052 and parameters: {'n_estimators': 22, 'max_depth': 11, 'min_samples_split': 5, 'min_samples_leaf': 2}. Best is trial 2 with value: 2.449827329704216.\n",
      "[I 2023-06-06 17:22:49,196] Trial 5 finished with value: 2.4720122094960733 and parameters: {'n_estimators': 35, 'max_depth': 3, 'min_samples_split': 4, 'min_samples_leaf': 2}. Best is trial 2 with value: 2.449827329704216.\n",
      "[I 2023-06-06 17:22:49,733] Trial 6 finished with value: 2.4516421799356767 and parameters: {'n_estimators': 28, 'max_depth': 16, 'min_samples_split': 3, 'min_samples_leaf': 3}. Best is trial 2 with value: 2.449827329704216.\n",
      "[I 2023-06-06 17:22:49,873] Trial 7 finished with value: 2.5374040268274087 and parameters: {'n_estimators': 34, 'max_depth': 1, 'min_samples_split': 7, 'min_samples_leaf': 1}. Best is trial 2 with value: 2.449827329704216.\n",
      "[I 2023-06-06 17:22:50,185] Trial 8 finished with value: 2.455971238567075 and parameters: {'n_estimators': 12, 'max_depth': 19, 'min_samples_split': 10, 'min_samples_leaf': 4}. Best is trial 2 with value: 2.449827329704216.\n",
      "[I 2023-06-06 17:22:50,302] Trial 9 finished with value: 2.486106021576535 and parameters: {'n_estimators': 22, 'max_depth': 2, 'min_samples_split': 8, 'min_samples_leaf': 2}. Best is trial 2 with value: 2.449827329704216.\n"
     ]
    }
   ],
   "source": [
    "import os\n",
    "import pickle\n",
    "\n",
    "import mlflow\n",
    "import optuna\n",
    "from optuna.samplers import TPESampler\n",
    "from sklearn.ensemble import RandomForestRegressor\n",
    "from sklearn.metrics import mean_squared_error\n",
    "\n",
    "\n",
    "# Set new experiment using sqlite as backend\n",
    "MLFLOW_TRACKING_URI = PROJECT_DIR / \"mlflow.db\"\n",
    "mlflow.set_tracking_uri(\"sqlite:///\" + MLFLOW_TRACKING_URI.as_posix())\n",
    "\n",
    "# Turn off autologging\n",
    "mlflow.sklearn.autolog(disable=True)\n",
    "\n",
    "\n",
    "mlflow.set_experiment(\"random-forest-hyperopt\")\n",
    "\n",
    "\n",
    "def load_pickle(filename):\n",
    "    with open(filename, \"rb\") as f_in:\n",
    "        return pickle.load(f_in)\n",
    "\n",
    "\n",
    "def run_optimization(data_path: str, num_trials: int):\n",
    "    X_train, y_train = load_pickle(os.path.join(data_path, \"train.pkl\"))\n",
    "    X_val, y_val = load_pickle(os.path.join(data_path, \"val.pkl\"))\n",
    "\n",
    "    def objective(trial):\n",
    "        params = {\n",
    "            \"n_estimators\": trial.suggest_int(\"n_estimators\", 10, 50, 1),\n",
    "            \"max_depth\": trial.suggest_int(\"max_depth\", 1, 20, 1),\n",
    "            \"min_samples_split\": trial.suggest_int(\"min_samples_split\", 2, 10, 1),\n",
    "            \"min_samples_leaf\": trial.suggest_int(\"min_samples_leaf\", 1, 4, 1),\n",
    "            \"random_state\": 42,\n",
    "            \"n_jobs\": -1,\n",
    "        }\n",
    "\n",
    "        rf = RandomForestRegressor(**params)\n",
    "        rf.fit(X_train, y_train)\n",
    "        y_pred = rf.predict(X_val)\n",
    "        rmse = mean_squared_error(y_val, y_pred, squared=False)\n",
    "\n",
    "        with mlflow.start_run():\n",
    "            mlflow.log_params(params)\n",
    "            mlflow.log_metric(\"rmse\", rmse)\n",
    "\n",
    "        return rmse\n",
    "\n",
    "    sampler = TPESampler(seed=42)\n",
    "    study = optuna.create_study(direction=\"minimize\", sampler=sampler)\n",
    "    study.optimize(objective, n_trials=num_trials)\n",
    "\n",
    "\n",
    "data_path = str(DATA_DIR / \"preprocessed\")\n",
    "num_trials = 10\n",
    "run_optimization(data_path, num_trials)"
   ]
  },
  {
   "cell_type": "code",
   "execution_count": 61,
   "id": "a87e2e10",
   "metadata": {},
   "outputs": [
    {
     "name": "stdout",
     "output_type": "stream",
     "text": [
      "Best run ID: fd7e32f30f6a434f8684857bc03d2ab9\n",
      "Best RMSE metrics: 2.45\n"
     ]
    }
   ],
   "source": [
    "experiment = mlflow.get_experiment_by_name(\"random-forest-hyperopt\")\n",
    "runs = mlflow.search_runs(experiment.experiment_id)\n",
    "\n",
    "best_run = runs.loc[runs[\"metrics.rmse\"].idxmin()]\n",
    "best_run_id = best_run.run_id\n",
    "\n",
    "print(f\"Best run ID: {best_run_id}\")\n",
    "print(f\"Best RMSE metrics: {best_run['metrics.rmse']:.2f}\")\n"
   ]
  },
  {
   "attachments": {},
   "cell_type": "markdown",
   "id": "19d9057c",
   "metadata": {},
   "source": [
    "## Q5. Promote the best model to the model registry\n",
    "\n",
    "Update the script `register_model.py` so that it selects the model with the lowest RMSE on the test set and registers it to the model registry."
   ]
  },
  {
   "cell_type": "code",
   "execution_count": 62,
   "id": "b9e3e08d",
   "metadata": {},
   "outputs": [
    {
     "name": "stderr",
     "output_type": "stream",
     "text": [
      "2023/06/06 17:22:51 WARNING mlflow.utils.autologging_utils: Encountered unexpected error during sklearn autologging: [Errno 13] Permission denied: '/home/fernando/code/mlops-zoomcamp/mlruns/2'\n",
      "2023/06/06 17:22:51 WARNING mlflow.utils.autologging_utils: Encountered unexpected error during sklearn autologging: [Errno 13] Permission denied: '/home/fernando/code/mlops-zoomcamp/mlruns/2'\n",
      "2023/06/06 17:22:52 WARNING mlflow.utils.autologging_utils: Encountered unexpected error during sklearn autologging: [Errno 13] Permission denied: '/home/fernando/code/mlops-zoomcamp/mlruns/2'\n",
      "2023/06/06 17:22:53 WARNING mlflow.utils.autologging_utils: Encountered unexpected error during sklearn autologging: [Errno 13] Permission denied: '/home/fernando/code/mlops-zoomcamp/mlruns/2'\n",
      "2023/06/06 17:22:54 WARNING mlflow.utils.autologging_utils: Encountered unexpected error during sklearn autologging: [Errno 13] Permission denied: '/home/fernando/code/mlops-zoomcamp/mlruns/2'\n",
      "Registered model 'random-forest-model' already exists. Creating a new version of this model...\n",
      "2023/06/06 17:22:54 INFO mlflow.tracking._model_registry.client: Waiting up to 300 seconds for model version to finish creation. Model name: random-forest-model, version 3\n",
      "Created version '3' of model 'random-forest-model'.\n"
     ]
    },
    {
     "data": {
      "text/plain": [
       "<ModelVersion: aliases=[], creation_timestamp=1686068574139, current_stage='None', description=None, last_updated_timestamp=1686068574139, name='random-forest-model', run_id='307957faf8a043a6b041cf98c652d961', run_link=None, source='/home/fernando/code/mlops-zoomcamp/mlruns/2/307957faf8a043a6b041cf98c652d961/artifacts/model', status='READY', status_message=None, tags={}, user_id=None, version=3>"
      ]
     },
     "execution_count": 62,
     "metadata": {},
     "output_type": "execute_result"
    }
   ],
   "source": [
    "import os\n",
    "import pickle\n",
    "import mlflow\n",
    "\n",
    "from mlflow.entities import ViewType\n",
    "from mlflow.tracking import MlflowClient\n",
    "from sklearn.ensemble import RandomForestRegressor\n",
    "from sklearn.metrics import mean_squared_error\n",
    "\n",
    "HPO_EXPERIMENT_NAME = \"random-forest-hyperopt\"\n",
    "EXPERIMENT_NAME = \"random-forest-best-models\"\n",
    "RF_PARAMS = [\n",
    "    \"max_depth\",\n",
    "    \"n_estimators\",\n",
    "    \"min_samples_split\",\n",
    "    \"min_samples_leaf\",\n",
    "    \"random_state\",\n",
    "    \"n_jobs\",\n",
    "]\n",
    "\n",
    "\n",
    "MLFLOW_TRACKING_URI = PROJECT_DIR / \"mlflow.db\"\n",
    "mlflow.set_tracking_uri(\"sqlite:///\" + MLFLOW_TRACKING_URI.as_posix())\n",
    "mlflow.set_experiment(EXPERIMENT_NAME)\n",
    "mlflow.sklearn.autolog()\n",
    "\n",
    "\n",
    "def load_pickle(filename):\n",
    "    with open(filename, \"rb\") as f_in:\n",
    "        return pickle.load(f_in)\n",
    "\n",
    "\n",
    "def train_and_log_model(data_path, params):\n",
    "    X_train, y_train = load_pickle(os.path.join(data_path, \"train.pkl\"))\n",
    "    X_val, y_val = load_pickle(os.path.join(data_path, \"val.pkl\"))\n",
    "    X_test, y_test = load_pickle(os.path.join(data_path, \"test.pkl\"))\n",
    "\n",
    "    with mlflow.start_run():\n",
    "        for param in RF_PARAMS:\n",
    "            params[param] = int(params[param])\n",
    "\n",
    "        rf = RandomForestRegressor(**params)\n",
    "        rf.fit(X_train, y_train)\n",
    "\n",
    "        # Evaluate model on the validation and test sets\n",
    "        val_rmse = mean_squared_error(y_val, rf.predict(X_val), squared=False)\n",
    "        mlflow.log_metric(\"val_rmse\", val_rmse)\n",
    "        test_rmse = mean_squared_error(y_test, rf.predict(X_test), squared=False)\n",
    "        mlflow.log_metric(\"test_rmse\", test_rmse)\n",
    "\n",
    "\n",
    "def run_model_optimizer(data_path: Path, top_n: int = 5):\n",
    "\n",
    "    client = MlflowClient()\n",
    "\n",
    "    # Retrieve the top_n model runs and log the models\n",
    "    experiment = client.get_experiment_by_name(HPO_EXPERIMENT_NAME)\n",
    "    runs = client.search_runs(\n",
    "        experiment_ids=experiment.experiment_id,\n",
    "        run_view_type=ViewType.ACTIVE_ONLY,\n",
    "        max_results=top_n,\n",
    "        order_by=[\"metrics.rmse ASC\"],\n",
    "    )\n",
    "    for run in runs:\n",
    "        train_and_log_model(data_path=data_path, params=run.data.params)\n",
    "\n",
    "    # Select the model with the lowest test RMSE\n",
    "    experiment = client.get_experiment_by_name(EXPERIMENT_NAME)\n",
    "    best_run = client.search_runs(\n",
    "        experiment_ids=experiment.experiment_id,\n",
    "        run_view_type=ViewType.ACTIVE_ONLY,\n",
    "        max_results=1,\n",
    "        order_by=[\"metrics.test_rmse ASC\"],\n",
    "    )[0]\n",
    "\n",
    "    return best_run\n",
    "\n",
    "\n",
    "best_run = run_model_optimizer(data_path=DATA_DIR / \"preprocessed\")\n",
    "mlflow.register_model(\n",
    "    f\"runs:/{best_run.info.run_id}/model\",\n",
    "    \"random-forest-model\",\n",
    ")\n"
   ]
  },
  {
   "cell_type": "code",
   "execution_count": 56,
   "id": "251c793f",
   "metadata": {},
   "outputs": [
    {
     "name": "stdout",
     "output_type": "stream",
     "text": [
      "Best run ID: b457d6ddac3741e9932fcd0dfd96ec5d\n",
      "Best test RMSE: 2.29\n"
     ]
    }
   ],
   "source": [
    "# Print the best run ID and the best test RMSE\n",
    "print(f\"Best run ID: {best_run.info.run_id}\")\n",
    "print(f\"Best test RMSE: {best_run.data.metrics['test_rmse']:.2f}\")"
   ]
  }
 ],
 "metadata": {
  "kernelspec": {
   "display_name": "Python 3 (ipykernel)",
   "language": "python",
   "name": "python3"
  },
  "language_info": {
   "codemirror_mode": {
    "name": "ipython",
    "version": 3
   },
   "file_extension": ".py",
   "mimetype": "text/x-python",
   "name": "python",
   "nbconvert_exporter": "python",
   "pygments_lexer": "ipython3",
   "version": "3.10.9"
  }
 },
 "nbformat": 4,
 "nbformat_minor": 5
}
