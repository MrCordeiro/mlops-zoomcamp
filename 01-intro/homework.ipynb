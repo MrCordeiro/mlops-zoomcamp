{
 "cells": [
  {
   "attachments": {},
   "cell_type": "markdown",
   "id": "740766fb",
   "metadata": {},
   "source": [
    "# Trip data duration regression"
   ]
  },
  {
   "cell_type": "code",
   "execution_count": 53,
   "id": "41062d8a",
   "metadata": {},
   "outputs": [],
   "source": [
    "import pickle\n",
    "import subprocess\n",
    "from pathlib import Path\n",
    "\n",
    "import pandas as pd\n",
    "import seaborn as sns\n",
    "from sklearn.compose import ColumnTransformer\n",
    "from sklearn.pipeline import Pipeline\n",
    "from sklearn.feature_extraction import DictVectorizer\n",
    "from sklearn.linear_model import Lasso, LinearRegression\n",
    "from sklearn.metrics import mean_squared_error\n",
    "from sklearn.preprocessing import OneHotEncoder\n",
    "from sklearn.pipeline import Pipeline\n",
    "\n",
    "PROJECT_DIR = Path().absolute().parent"
   ]
  },
  {
   "attachments": {},
   "cell_type": "markdown",
   "id": "a50a44c6",
   "metadata": {},
   "source": [
    "## Download dataset\n",
    "\n",
    "We'll use [the same NYC taxi dataset](https://www1.nyc.gov/site/tlc/about/tlc-trip-record-data.page), but instead of \"**Green** Taxi Trip Records\", we'll use \"**Yellow** Taxi Trip Records\".\n",
    "\n",
    "Download the data for January and February 2022."
   ]
  },
  {
   "cell_type": "code",
   "execution_count": 54,
   "id": "328fc195",
   "metadata": {},
   "outputs": [
    {
     "name": "stdout",
     "output_type": "stream",
     "text": [
      "File already exists.\n",
      "File already exists.\n"
     ]
    }
   ],
   "source": [
    "DATA_DIR = PROJECT_DIR / \"data\"\n",
    "S3_URL = \"https://d37ci6vzurychx.cloudfront.net/trip-data/\"\n",
    "FILE_NAMES = [\"yellow_tripdata_2022-01.parquet\", \"yellow_tripdata_2022-02.parquet\"]\n",
    "\n",
    "\n",
    "def download_data(file_name: str) -> None:\n",
    "    file_path = DATA_DIR / file_name\n",
    "    url = S3_URL + file_name\n",
    "\n",
    "    if not file_path.is_file():\n",
    "        print(\"File does not exist, downloading from S3 bucket.\")\n",
    "        if not file_path.parent.exists():\n",
    "            file_path.parent.mkdir(parents=True)\n",
    "        subprocess.run([\"wget\", \"-O\", file_path, url])\n",
    "        print(f\"File downloaded successfully and saved at {file_path}\")\n",
    "    else:\n",
    "        print(\"File already exists.\")\n",
    "\n",
    "\n",
    "for file_name in FILE_NAMES:\n",
    "    download_data(file_name)"
   ]
  },
  {
   "attachments": {},
   "cell_type": "markdown",
   "id": "f58223b4",
   "metadata": {},
   "source": [
    "Read the data for January. How many columns are there?"
   ]
  },
  {
   "cell_type": "code",
   "execution_count": 55,
   "id": "b6309a37",
   "metadata": {},
   "outputs": [
    {
     "name": "stdout",
     "output_type": "stream",
     "text": [
      "There are currently 2463931 rows and 19 columns in the dataset.\n"
     ]
    }
   ],
   "source": [
    "df = pd.read_parquet(DATA_DIR / FILE_NAMES[0])\n",
    "print(\n",
    "    f\"There are currently {df.shape[0]} rows and {df.shape[1]} columns in the dataset.\"\n",
    ")"
   ]
  },
  {
   "attachments": {},
   "cell_type": "markdown",
   "id": "5a45e240",
   "metadata": {},
   "source": [
    "## Set target\n",
    "\n",
    "Our target column is `duration`. It should contain the duration of a ride in minutes. What's the standard deviation of the trips duration in January?\n"
   ]
  },
  {
   "cell_type": "code",
   "execution_count": 56,
   "id": "f58f4b2a",
   "metadata": {},
   "outputs": [
    {
     "data": {
      "text/plain": [
       "VendorID                          int64\n",
       "tpep_pickup_datetime     datetime64[ns]\n",
       "tpep_dropoff_datetime    datetime64[ns]\n",
       "passenger_count                 float64\n",
       "trip_distance                   float64\n",
       "RatecodeID                      float64\n",
       "store_and_fwd_flag               object\n",
       "PULocationID                      int64\n",
       "DOLocationID                      int64\n",
       "payment_type                      int64\n",
       "fare_amount                     float64\n",
       "extra                           float64\n",
       "mta_tax                         float64\n",
       "tip_amount                      float64\n",
       "tolls_amount                    float64\n",
       "improvement_surcharge           float64\n",
       "total_amount                    float64\n",
       "congestion_surcharge            float64\n",
       "airport_fee                     float64\n",
       "dtype: object"
      ]
     },
     "execution_count": 56,
     "metadata": {},
     "output_type": "execute_result"
    }
   ],
   "source": [
    "df.dtypes"
   ]
  },
  {
   "cell_type": "code",
   "execution_count": 57,
   "id": "1fb75f9e",
   "metadata": {},
   "outputs": [
    {
     "name": "stdout",
     "output_type": "stream",
     "text": [
      "The standard deviation of the trip duration is 46.45 minutes.\n"
     ]
    }
   ],
   "source": [
    "df[\"duration\"] = df[\"tpep_dropoff_datetime\"] - df[\"tpep_pickup_datetime\"]\n",
    "df[\"duration\"] = df[\"duration\"].apply(lambda td: td.total_seconds() / 60)\n",
    "\n",
    "duration_std = df[\"duration\"].std()\n",
    "\n",
    "print(f\"The standard deviation of the trip duration is {duration_std:.2f} minutes.\")"
   ]
  },
  {
   "attachments": {},
   "cell_type": "markdown",
   "id": "eec36e61",
   "metadata": {},
   "source": [
    "## Cleaning\n",
    "\n",
    "Let's remove them and keep only the records where the duration was between 1 and 60 minutes (inclusive).\n",
    "\n",
    "What fraction of the records left after you dropped the outliers?"
   ]
  },
  {
   "cell_type": "code",
   "execution_count": 58,
   "id": "8493a988",
   "metadata": {},
   "outputs": [
    {
     "name": "stdout",
     "output_type": "stream",
     "text": [
      "clean_rows_pct=98.28%.\n"
     ]
    }
   ],
   "source": [
    "original_shape = df.shape\n",
    "df = df[(df[\"duration\"] >= 1) & (df[\"duration\"] <= 60)]\n",
    "clean_rows_pct = df.shape[0] / original_shape[0] * 100\n",
    "\n",
    "print(f\"{clean_rows_pct=:.2f}%.\")"
   ]
  },
  {
   "attachments": {},
   "cell_type": "markdown",
   "id": "4e9f9bb9",
   "metadata": {},
   "source": [
    "## Train linear regression"
   ]
  },
  {
   "cell_type": "code",
   "execution_count": 59,
   "id": "8e013caf",
   "metadata": {},
   "outputs": [
    {
     "name": "stdout",
     "output_type": "stream",
     "text": [
      "dimensionality=515\n"
     ]
    }
   ],
   "source": [
    "categorical_cols = [\"PULocationID\", \"DOLocationID\"]\n",
    "\n",
    "pipeline = Pipeline(\n",
    "    [\n",
    "        (\n",
    "            \"encoder\",\n",
    "            ColumnTransformer(\n",
    "                [\n",
    "                    (\n",
    "                        \"one_hot_encoder\",\n",
    "                        OneHotEncoder(handle_unknown=\"ignore\"),\n",
    "                        categorical_cols,\n",
    "                    )\n",
    "                ],\n",
    "                remainder=\"passthrough\",\n",
    "            ),\n",
    "        )\n",
    "    ]\n",
    ")\n",
    "X_train = pipeline.fit_transform(df[categorical_cols])\n",
    "\n",
    "# Get the number of columns\n",
    "dimensionality = X_train.shape[1]\n",
    "print(f\"{dimensionality=}\")"
   ]
  },
  {
   "cell_type": "code",
   "execution_count": 60,
   "id": "116ff0cc",
   "metadata": {},
   "outputs": [
    {
     "data": {
      "text/plain": [
       "6.986190836160848"
      ]
     },
     "execution_count": 60,
     "metadata": {},
     "output_type": "execute_result"
    }
   ],
   "source": [
    "target = \"duration\"\n",
    "y_train = df[target].values\n",
    "\n",
    "lr = LinearRegression()\n",
    "lr.fit(X_train, y_train)\n",
    "\n",
    "y_pred = lr.predict(X_train)\n",
    "\n",
    "mean_squared_error(y_train, y_pred, squared=False)"
   ]
  },
  {
   "cell_type": "code",
   "execution_count": 61,
   "id": "c1c94f65",
   "metadata": {},
   "outputs": [
    {
     "data": {
      "text/plain": [
       "<Axes: ylabel='Count'>"
      ]
     },
     "execution_count": 61,
     "metadata": {},
     "output_type": "execute_result"
    },
    {
     "data": {
      "image/png": "[encoded data removed]",
      "text/plain": [
       "<Figure size 640x480 with 1 Axes>"
      ]
     },
     "metadata": {},
     "output_type": "display_data"
    }
   ],
   "source": [
    "sns.histplot(y_train, color=\"orange\", edgecolor=None, alpha=0.5, kde=True)\n",
    "sns.histplot(y_pred, color=\"blue\", edgecolor=None, alpha=0.5, kde=True)"
   ]
  },
  {
   "cell_type": "code",
   "execution_count": 62,
   "id": "f9e6479e",
   "metadata": {},
   "outputs": [],
   "source": [
    "def _read_csv_dataframe(filename: Path) -> pd.DataFrame:\n",
    "    df = pd.read_csv(filename)\n",
    "    for dt_col in [\"lpep_dropoff_datetime\", \"lpep_pickup_datetime\"]:\n",
    "        df[dt_col] = pd.to_datetime(df[dt_col])\n",
    "    return df\n",
    "\n",
    "\n",
    "def _is_file_csv(filename: Path) -> bool:\n",
    "    return filename.suffix == \".csv\"\n",
    "\n",
    "\n",
    "def _is_file_parquet(filename: Path) -> bool:\n",
    "    return filename.suffix == \".parquet\"\n",
    "\n",
    "\n",
    "def load_clean_data(filename: Path) -> pd.DataFrame:\n",
    "    if _is_file_csv(filename):\n",
    "        df = _read_csv_dataframe(filename)\n",
    "    elif _is_file_parquet(filename):\n",
    "        df = pd.read_parquet(filename)\n",
    "\n",
    "    df[\"duration\"] = df[\"tpep_dropoff_datetime\"] - df[\"tpep_pickup_datetime\"]\n",
    "    df[\"duration\"] = df[\"duration\"].apply(lambda td: td.total_seconds() / 60)\n",
    "\n",
    "    df = df[(df[\"duration\"] >= 1) & (df[\"duration\"] <= 60)]\n",
    "    return df"
   ]
  },
  {
   "cell_type": "code",
   "execution_count": 63,
   "id": "8029eba0",
   "metadata": {},
   "outputs": [
    {
     "data": {
      "text/plain": [
       "7.78640919129931"
      ]
     },
     "execution_count": 63,
     "metadata": {},
     "output_type": "execute_result"
    }
   ],
   "source": [
    "df_val = load_clean_data(DATA_DIR / \"yellow_tripdata_2022-02.parquet\")\n",
    "X_val = pipeline.transform(df_val[categorical_cols])\n",
    "y_val = df_val[target].values\n",
    "y_pred = lr.predict(X_val)\n",
    "mean_squared_error(y_val, y_pred, squared=False)"
   ]
  }
 ],
 "metadata": {
  "kernelspec": {
   "display_name": "Python 3 (ipykernel)",
   "language": "python",
   "name": "python3"
  },
  "language_info": {
   "codemirror_mode": {
    "name": "ipython",
    "version": 3
   },
   "file_extension": ".py",
   "mimetype": "text/x-python",
   "name": "python",
   "nbconvert_exporter": "python",
   "pygments_lexer": "ipython3",
   "version": "3.10.9"
  }
 },
 "nbformat": 4,
 "nbformat_minor": 5
}
